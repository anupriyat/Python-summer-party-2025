{
  "cells": [
    {
      "cell_type": "markdown",
      "metadata": {},
      "source": [
        "# Day 3: Disney Parks Guest Spending Behavior"
      ]
    },
    {
      "cell_type": "markdown",
      "metadata": {},
      "source": [
        "You are a data analyst working with the Disney Parks revenue team to understand nuanced guest spending patterns across different park experiences. The team wants to develop a comprehensive view of visitor purchasing behaviors. Your goal is to uncover meaningful insights that can drive personalized marketing strategies."
      ]
    },
    {
      "cell_type": "code",
      "metadata": {},
      "execution_count": null,
      "outputs": [],
      "source": "import pandas as pd\nimport numpy as np\n\nfct_guest_spending_data = [\n  {\n    \"guest_id\": 1,\n    \"visit_date\": \"2024-07-05\",\n    \"amount_spent\": 50,\n    \"park_experience_type\": \"Attraction\"\n  },\n  {\n    \"guest_id\": 2,\n    \"visit_date\": \"2024-07-06\",\n    \"amount_spent\": 30,\n    \"park_experience_type\": \"Dining\"\n  },\n  {\n    \"guest_id\": 3,\n    \"visit_date\": \"2024-07-10\",\n    \"amount_spent\": 20.5,\n    \"park_experience_type\": \"Retail\"\n  },\n  {\n    \"guest_id\": 4,\n    \"visit_date\": \"2024-07-12\",\n    \"amount_spent\": 40,\n    \"park_experience_type\": \"Entertainment\"\n  },\n  {\n    \"guest_id\": 1,\n    \"visit_date\": \"2024-07-15\",\n    \"amount_spent\": 35,\n    \"park_experience_type\": \"Dining\"\n  },\n  {\n    \"guest_id\": 5,\n    \"visit_date\": \"2024-07-20\",\n    \"amount_spent\": 60,\n    \"park_experience_type\": \"Attraction\"\n  },\n  {\n    \"guest_id\": 6,\n    \"visit_date\": \"2024-07-25\",\n    \"amount_spent\": 25,\n    \"park_experience_type\": \"Retail\"\n  },\n  {\n    \"guest_id\": 1,\n    \"visit_date\": \"2024-08-03\",\n    \"amount_spent\": 55,\n    \"park_experience_type\": \"Attraction\"\n  },\n  {\n    \"guest_id\": 1,\n    \"visit_date\": \"2024-08-15\",\n    \"amount_spent\": 45,\n    \"park_experience_type\": \"Dining\"\n  },\n  {\n    \"guest_id\": 2,\n    \"visit_date\": \"2024-08-05\",\n    \"amount_spent\": 22,\n    \"park_experience_type\": \"Retail\"\n  },\n  {\n    \"guest_id\": 2,\n    \"visit_date\": \"2024-08-20\",\n    \"amount_spent\": 38,\n    \"park_experience_type\": \"Entertainment\"\n  },\n  {\n    \"guest_id\": 7,\n    \"visit_date\": \"2024-08-10\",\n    \"amount_spent\": 15,\n    \"park_experience_type\": \"Character Meet\"\n  },\n  {\n    \"guest_id\": 3,\n    \"visit_date\": \"2024-08-25\",\n    \"amount_spent\": 28,\n    \"park_experience_type\": \"Retail\"\n  },\n  {\n    \"guest_id\": 3,\n    \"visit_date\": \"2024-08-27\",\n    \"amount_spent\": 32,\n    \"park_experience_type\": \"Dining\"\n  },\n  {\n    \"guest_id\": 1,\n    \"visit_date\": \"2024-09-02\",\n    \"amount_spent\": 65,\n    \"park_experience_type\": \"Attraction\"\n  },\n  {\n    \"guest_id\": 8,\n    \"visit_date\": \"2024-09-05\",\n    \"amount_spent\": 50,\n    \"park_experience_type\": \"Retail\"\n  },\n  {\n    \"guest_id\": 9,\n    \"visit_date\": \"2024-09-15\",\n    \"amount_spent\": 40,\n    \"park_experience_type\": \"Dining\"\n  },\n  {\n    \"guest_id\": 10,\n    \"visit_date\": \"2024-09-20\",\n    \"amount_spent\": 70,\n    \"park_experience_type\": \"Entertainment\"\n  },\n  {\n    \"guest_id\": 1,\n    \"visit_date\": \"2024-09-25\",\n    \"amount_spent\": 35,\n    \"park_experience_type\": \"Dining\"\n  },\n  {\n    \"guest_id\": 8,\n    \"visit_date\": \"2024-09-28\",\n    \"amount_spent\": 10,\n    \"park_experience_type\": \"Character Meet\"\n  }\n]\nfct_guest_spending = pd.DataFrame(fct_guest_spending_data)\n"
    },
    {
      "cell_type": "markdown",
      "metadata": {},
      "source": [
        "## Question 1\n\nWhat is the average spending per guest per visit for each park experience type during July 2024? Ensure that park experience types with no recorded transactions are shown with an average spending of 0.0. This analysis helps establish baseline spending differences essential for later segmentation."
      ]
    },
    {
      "cell_type": "code",
      "metadata": {},
      "execution_count": null,
      "outputs": [],
      "source": "# Note: pandas and numpy are already imported as pd and np\n# The following tables are loaded as pandas DataFrames with the same names: fct_guest_spending\n# Please print your final result or dataframe\nfct_guest_spending['visit_date'] = pd.to_datetime(fct_guest_spending['visit_date'], errors = 'coerce')\nfct_guest_spending_filtered = fct_guest_spending[(fct_guest_spending['visit_date'] >= '2024-07-01') & (fct_guest_spending['visit_date'] <= '2024-07-31')]\n\nfct_guest_spending_grp = fct_guest_spending_filtered.groupby(['guest_id','visit_date','park_experience_type'], as_index = False)['amount_spent'].sum()\n\ntype_avg = (fct_guest_spending_grp.groupby('park_experience_type', as_index=False)['amount_spent'].mean().rename(columns={'amount_spent': 'avg_spending_per_guest_per_visit'}))\n\nall_types = fct_guest_spending['park_experience_type'].dropna().drop_duplicates().to_frame(name='park_experience_type') \n            \ntype_avg_full = (all_types.merge(type_avg, on='park_experience_type', how='left').fillna({'avg_spending_per_guest_per_visit': 0.0}))\n\nprint(type_avg_full)"
    },
    {
      "cell_type": "markdown",
      "metadata": {},
      "source": [
        "## Question 2\n\nFor guests who visited our parks more than once in August 2024, what is the difference in spending between their first and their last visit? This investigation, using sequential analysis, will reveal any shifts in guest spending behavior over multiple visits."
      ]
    },
    {
      "cell_type": "code",
      "metadata": {},
      "execution_count": null,
      "outputs": [],
      "source": "fct_guest_spending['visit_date'] = pd.to_datetime(fct_guest_spending['visit_date'], errors = 'coerce')\nfct_guest_spending_filtered = fct_guest_spending[(fct_guest_spending['visit_date'] >= '2024-08-01') & (fct_guest_spending['visit_date'] < '2024-09-01')]\n\nfct_guest_spending_grp = fct_guest_spending_filtered.groupby(['guest_id','visit_date'], as_index = False)['amount_spent'].sum()\n\nvisits_grp = fct_guest_spending_grp.groupby('guest_id', as_index = False)['visit_date'].nunique().rename(columns = {'visit_date':'visit_count'})\n\nvisits_grp_filtered = visits_grp[(visits_grp['visit_count'] >= 2)]\n\nguests_filtered = fct_guest_spending_grp.merge(visits_grp_filtered, on = 'guest_id')\n\nidx_first = guests_filtered.groupby(['guest_id'])['visit_date'].idxmin() #is a series with selected rows of guest_id and row index where visit date is min\nfirst_visit = (guests_filtered.loc[idx_first, ['guest_id','amount_spent']].rename(columns={'amount_spent':'amount_spent_first_visit'}))\n\nidx_last = guests_filtered.groupby(['guest_id'])['visit_date'].idxmax() #is a series with selected rows of guest_id and row index where visit date is max\nlast_visit = (guests_filtered.loc[idx_last, ['guest_id','amount_spent']].rename(columns={'amount_spent':'amount_spent_last_visit'}))\n\nvisit_merged = first_visit.merge(last_visit, on = ['guest_id'])\n\nvisit_merged['diff'] = visit_merged['amount_spent_first_visit'] - visit_merged['amount_spent_last_visit']\nprint(visit_merged)"
    },
    {
      "cell_type": "markdown",
      "metadata": {},
      "source": [
        "## Question 3\n\nIn September 2024, how can guests be categorized into distinct spending segments such as Low, Medium, and High based on their total spending? Use the following thresholds for categorization: \n-Low: Includes values from $0 up to, but not including, $50.\n-Medium: Includes values from $50 up to, but not including, $100.\n-High: Includes values from $100 and above. \nExclude guests who did not make any purchases in the period."
      ]
    },
    {
      "cell_type": "code",
      "metadata": {},
      "execution_count": null,
      "outputs": [],
      "source": "fct_guest_spending['visit_date'] = pd.to_datetime(fct_guest_spending['visit_date'], errors = 'coerce')\nfct_guest_spending_filtered = fct_guest_spending[(fct_guest_spending['visit_date'] >= '2024-09-01') & (fct_guest_spending['visit_date'] < '2024-10-01')]\nfct_guest_spending_grp = fct_guest_spending_filtered.groupby('guest_id', as_index = False)['amount_spent'].sum()\nnonzero = fct_guest_spending_grp[fct_guest_spending_grp['amount_spent'] > 0]\n\nbins = [0, 50, 100, float('inf')]\nlabels = ['Low', 'Medium', 'High']\n\nnonzero['spend_segment'] = pd.cut(nonzero['amount_spent'], bins=bins, labels=labels, right=False)  # makes intervals [a, b)\n\nprint(nonzero)"
    },
    {
      "cell_type": "markdown",
      "metadata": {},
      "source": [
        "Made with ❤️ by [Interview Master](https://www.interviewmaster.ai)"
      ]
    }
  ],
  "metadata": {
    "kernelspec": {
      "name": "python3",
      "language": "python",
      "display_name": "Python 3"
    },
    "language_info": {
      "name": "python",
      "version": "3",
      "mimetype": "text/x-python",
      "file_extension": ".py"
    }
  },
  "nbformat": 4,
  "nbformat_minor": 5
}